{
 "cells": [
  {
   "cell_type": "code",
   "execution_count": 1,
   "id": "554bdeb8",
   "metadata": {
    "_cell_guid": "5494dfd1-c2d0-48ca-954a-bb9e1564f3da",
    "_uuid": "b7a832f1-7f9a-4e2f-83fe-f97ebd6bd325",
    "collapsed": false,
    "execution": {
     "iopub.execute_input": "2024-12-07T14:30:51.669267Z",
     "iopub.status.busy": "2024-12-07T14:30:51.668761Z",
     "iopub.status.idle": "2024-12-07T14:30:52.505883Z",
     "shell.execute_reply": "2024-12-07T14:30:52.504464Z"
    },
    "jupyter": {
     "outputs_hidden": false
    },
    "papermill": {
     "duration": 0.847091,
     "end_time": "2024-12-07T14:30:52.508413",
     "exception": false,
     "start_time": "2024-12-07T14:30:51.661322",
     "status": "completed"
    },
    "tags": []
   },
   "outputs": [
    {
     "name": "stdout",
     "output_type": "stream",
     "text": [
      "/kaggle/input/predict-the-success-of-bank-telemarketing/sample_submission.csv\n",
      "/kaggle/input/predict-the-success-of-bank-telemarketing/train.csv\n",
      "/kaggle/input/predict-the-success-of-bank-telemarketing/test.csv\n"
     ]
    }
   ],
   "source": [
    "# This Python 3 environment comes with many helpful analytics libraries installed\n",
    "# It is defined by the kaggle/python Docker image: https://github.com/kaggle/docker-python\n",
    "# For example, here's several helpful packages to load\n",
    "\n",
    "import numpy as np # linear algebra\n",
    "import pandas as pd # data processing, CSV file I/O (e.g. pd.read_csv)\n",
    "\n",
    "# Input data files are available in the read-only \"../input/\" directory\n",
    "# For example, running this (by clicking run or pressing Shift+Enter) will list all files under the input directory\n",
    "\n",
    "import os\n",
    "for dirname, _, filenames in os.walk('/kaggle/input'):\n",
    "    for filename in filenames:\n",
    "        print(os.path.join(dirname, filename))\n",
    "\n",
    "# You can write up to 20GB to the current directory (/kaggle/working/) that gets preserved as output when you create a version using \"Save & Run All\" \n",
    "# You can also write temporary files to /kaggle/temp/, but they won't be saved outside of the current session"
   ]
  },
  {
   "cell_type": "code",
   "execution_count": 2,
   "id": "bc99c7f6",
   "metadata": {
    "_cell_guid": "f9a6a9b9-886f-4e79-8848-5afdfc83b3d0",
    "_uuid": "a2c06402-18c1-4689-9fe2-89eb712bdb5a",
    "collapsed": false,
    "execution": {
     "iopub.execute_input": "2024-12-07T14:30:52.521665Z",
     "iopub.status.busy": "2024-12-07T14:30:52.520326Z",
     "iopub.status.idle": "2024-12-07T14:30:52.525659Z",
     "shell.execute_reply": "2024-12-07T14:30:52.524597Z"
    },
    "jupyter": {
     "outputs_hidden": false
    },
    "papermill": {
     "duration": 0.01401,
     "end_time": "2024-12-07T14:30:52.527953",
     "exception": false,
     "start_time": "2024-12-07T14:30:52.513943",
     "status": "completed"
    },
    "tags": []
   },
   "outputs": [],
   "source": [
    "# df = pd.read_csv(\"/kaggle/input/predict-the-success-of-bank-telemarketing/train.csv\")\n",
    "# X = df.drop(\"target\", axis=1) \n",
    "# y = df['target']\n",
    "\n",
    "# from sklearn.dummy import DummyClassifier \n",
    "# model= DummyClassifier().fit(X,y)\n",
    "\n",
    "# X_test = pd.read_csv(\"/kaggle/input/predict-the-success-of-bank-telemarketing/test.csv\")\n",
    "# y_pred= model.predict(X_test)\n",
    "\n",
    "# submission= pd.DataFrame({\"id\": range(0,X_test.shape[0]), \n",
    "#                           'target': y_pred})\n",
    "\n",
    "# submission.to_csv ('submission.csv',index=False)"
   ]
  },
  {
   "cell_type": "code",
   "execution_count": 3,
   "id": "a8b6ec91",
   "metadata": {
    "_cell_guid": "7623a472-658b-4610-b71f-ba998bea0b80",
    "_uuid": "d30310a9-41ac-4417-b05c-1b9370d8e8e0",
    "collapsed": false,
    "execution": {
     "iopub.execute_input": "2024-12-07T14:30:52.539957Z",
     "iopub.status.busy": "2024-12-07T14:30:52.539596Z",
     "iopub.status.idle": "2024-12-07T14:30:54.423345Z",
     "shell.execute_reply": "2024-12-07T14:30:54.422343Z"
    },
    "jupyter": {
     "outputs_hidden": false
    },
    "papermill": {
     "duration": 1.892902,
     "end_time": "2024-12-07T14:30:54.426041",
     "exception": false,
     "start_time": "2024-12-07T14:30:52.533139",
     "status": "completed"
    },
    "tags": []
   },
   "outputs": [],
   "source": [
    "import pandas as pd\n",
    "import numpy as np\n",
    "from sklearn.model_selection import train_test_split, GridSearchCV\n",
    "from sklearn.preprocessing import OneHotEncoder, LabelEncoder\n",
    "from sklearn.pipeline import Pipeline\n",
    "from sklearn.preprocessing import StandardScaler\n",
    "from sklearn.compose import ColumnTransformer\n",
    "from sklearn.metrics import f1_score, classification_report\n",
    "from xgboost import XGBClassifier\n",
    "from sklearn.ensemble import RandomForestClassifier\n",
    "from sklearn.linear_model import LogisticRegression"
   ]
  },
  {
   "cell_type": "code",
   "execution_count": 4,
   "id": "38b59543",
   "metadata": {
    "_cell_guid": "3ad454ec-76c7-405f-b159-9eca368041c7",
    "_uuid": "2615211d-a786-4fa3-b21f-8314ed02a069",
    "collapsed": false,
    "execution": {
     "iopub.execute_input": "2024-12-07T14:30:54.438331Z",
     "iopub.status.busy": "2024-12-07T14:30:54.437746Z",
     "iopub.status.idle": "2024-12-07T14:30:54.655177Z",
     "shell.execute_reply": "2024-12-07T14:30:54.653711Z"
    },
    "jupyter": {
     "outputs_hidden": false
    },
    "papermill": {
     "duration": 0.2261,
     "end_time": "2024-12-07T14:30:54.657522",
     "exception": false,
     "start_time": "2024-12-07T14:30:54.431422",
     "status": "completed"
    },
    "tags": []
   },
   "outputs": [
    {
     "name": "stdout",
     "output_type": "stream",
     "text": [
      "<class 'pandas.core.frame.DataFrame'>\n",
      "RangeIndex: 39211 entries, 0 to 39210\n",
      "Data columns (total 16 columns):\n",
      " #   Column             Non-Null Count  Dtype \n",
      "---  ------             --------------  ----- \n",
      " 0   last contact date  39211 non-null  object\n",
      " 1   age                39211 non-null  int64 \n",
      " 2   job                38982 non-null  object\n",
      " 3   marital            39211 non-null  object\n",
      " 4   education          37744 non-null  object\n",
      " 5   default            39211 non-null  object\n",
      " 6   balance            39211 non-null  int64 \n",
      " 7   housing            39211 non-null  object\n",
      " 8   loan               39211 non-null  object\n",
      " 9   contact            28875 non-null  object\n",
      " 10  duration           39211 non-null  int64 \n",
      " 11  campaign           39211 non-null  int64 \n",
      " 12  pdays              39211 non-null  int64 \n",
      " 13  previous           39211 non-null  int64 \n",
      " 14  poutcome           9760 non-null   object\n",
      " 15  target             39211 non-null  object\n",
      "dtypes: int64(6), object(10)\n",
      "memory usage: 4.8+ MB\n",
      "None\n",
      "last contact date        0\n",
      "age                      0\n",
      "job                    229\n",
      "marital                  0\n",
      "education             1467\n",
      "default                  0\n",
      "balance                  0\n",
      "housing                  0\n",
      "loan                     0\n",
      "contact              10336\n",
      "duration                 0\n",
      "campaign                 0\n",
      "pdays                    0\n",
      "previous                 0\n",
      "poutcome             29451\n",
      "target                   0\n",
      "dtype: int64\n"
     ]
    }
   ],
   "source": [
    "# loading the data\n",
    "df =  pd.read_csv(\"/kaggle/input/predict-the-success-of-bank-telemarketing/train.csv\")\n",
    "\n",
    "# missing values\n",
    "print(df.info())\n",
    "print(df.isnull().sum())"
   ]
  },
  {
   "cell_type": "code",
   "execution_count": 5,
   "id": "66858f72",
   "metadata": {
    "execution": {
     "iopub.execute_input": "2024-12-07T14:30:54.672429Z",
     "iopub.status.busy": "2024-12-07T14:30:54.671299Z",
     "iopub.status.idle": "2024-12-07T14:30:54.691366Z",
     "shell.execute_reply": "2024-12-07T14:30:54.690225Z"
    },
    "papermill": {
     "duration": 0.029533,
     "end_time": "2024-12-07T14:30:54.693555",
     "exception": false,
     "start_time": "2024-12-07T14:30:54.664022",
     "status": "completed"
    },
    "tags": []
   },
   "outputs": [
    {
     "data": {
      "text/html": [
       "<div>\n",
       "<style scoped>\n",
       "    .dataframe tbody tr th:only-of-type {\n",
       "        vertical-align: middle;\n",
       "    }\n",
       "\n",
       "    .dataframe tbody tr th {\n",
       "        vertical-align: top;\n",
       "    }\n",
       "\n",
       "    .dataframe thead th {\n",
       "        text-align: right;\n",
       "    }\n",
       "</style>\n",
       "<table border=\"1\" class=\"dataframe\">\n",
       "  <thead>\n",
       "    <tr style=\"text-align: right;\">\n",
       "      <th></th>\n",
       "      <th>last contact date</th>\n",
       "      <th>age</th>\n",
       "      <th>job</th>\n",
       "      <th>marital</th>\n",
       "      <th>education</th>\n",
       "      <th>default</th>\n",
       "      <th>balance</th>\n",
       "      <th>housing</th>\n",
       "      <th>loan</th>\n",
       "      <th>contact</th>\n",
       "      <th>duration</th>\n",
       "      <th>campaign</th>\n",
       "      <th>pdays</th>\n",
       "      <th>previous</th>\n",
       "      <th>poutcome</th>\n",
       "      <th>target</th>\n",
       "    </tr>\n",
       "  </thead>\n",
       "  <tbody>\n",
       "    <tr>\n",
       "      <th>0</th>\n",
       "      <td>2009-04-17</td>\n",
       "      <td>26</td>\n",
       "      <td>blue-collar</td>\n",
       "      <td>married</td>\n",
       "      <td>secondary</td>\n",
       "      <td>no</td>\n",
       "      <td>647</td>\n",
       "      <td>yes</td>\n",
       "      <td>no</td>\n",
       "      <td>cellular</td>\n",
       "      <td>357</td>\n",
       "      <td>2</td>\n",
       "      <td>331</td>\n",
       "      <td>1</td>\n",
       "      <td>other</td>\n",
       "      <td>no</td>\n",
       "    </tr>\n",
       "    <tr>\n",
       "      <th>1</th>\n",
       "      <td>2009-10-11</td>\n",
       "      <td>52</td>\n",
       "      <td>technician</td>\n",
       "      <td>married</td>\n",
       "      <td>secondary</td>\n",
       "      <td>no</td>\n",
       "      <td>553</td>\n",
       "      <td>yes</td>\n",
       "      <td>no</td>\n",
       "      <td>telephone</td>\n",
       "      <td>160</td>\n",
       "      <td>1</td>\n",
       "      <td>-1</td>\n",
       "      <td>0</td>\n",
       "      <td>NaN</td>\n",
       "      <td>no</td>\n",
       "    </tr>\n",
       "    <tr>\n",
       "      <th>2</th>\n",
       "      <td>2010-11-20</td>\n",
       "      <td>44</td>\n",
       "      <td>blue-collar</td>\n",
       "      <td>married</td>\n",
       "      <td>secondary</td>\n",
       "      <td>no</td>\n",
       "      <td>1397</td>\n",
       "      <td>no</td>\n",
       "      <td>no</td>\n",
       "      <td>cellular</td>\n",
       "      <td>326</td>\n",
       "      <td>1</td>\n",
       "      <td>-1</td>\n",
       "      <td>0</td>\n",
       "      <td>NaN</td>\n",
       "      <td>no</td>\n",
       "    </tr>\n",
       "    <tr>\n",
       "      <th>3</th>\n",
       "      <td>2009-09-01</td>\n",
       "      <td>33</td>\n",
       "      <td>admin.</td>\n",
       "      <td>married</td>\n",
       "      <td>secondary</td>\n",
       "      <td>no</td>\n",
       "      <td>394</td>\n",
       "      <td>yes</td>\n",
       "      <td>no</td>\n",
       "      <td>telephone</td>\n",
       "      <td>104</td>\n",
       "      <td>3</td>\n",
       "      <td>-1</td>\n",
       "      <td>0</td>\n",
       "      <td>NaN</td>\n",
       "      <td>no</td>\n",
       "    </tr>\n",
       "    <tr>\n",
       "      <th>4</th>\n",
       "      <td>2008-01-29</td>\n",
       "      <td>31</td>\n",
       "      <td>entrepreneur</td>\n",
       "      <td>single</td>\n",
       "      <td>tertiary</td>\n",
       "      <td>no</td>\n",
       "      <td>137</td>\n",
       "      <td>no</td>\n",
       "      <td>no</td>\n",
       "      <td>cellular</td>\n",
       "      <td>445</td>\n",
       "      <td>2</td>\n",
       "      <td>-1</td>\n",
       "      <td>0</td>\n",
       "      <td>NaN</td>\n",
       "      <td>no</td>\n",
       "    </tr>\n",
       "  </tbody>\n",
       "</table>\n",
       "</div>"
      ],
      "text/plain": [
       "  last contact date  age           job  marital  education default  balance  \\\n",
       "0        2009-04-17   26   blue-collar  married  secondary      no      647   \n",
       "1        2009-10-11   52    technician  married  secondary      no      553   \n",
       "2        2010-11-20   44   blue-collar  married  secondary      no     1397   \n",
       "3        2009-09-01   33        admin.  married  secondary      no      394   \n",
       "4        2008-01-29   31  entrepreneur   single   tertiary      no      137   \n",
       "\n",
       "  housing loan    contact  duration  campaign  pdays  previous poutcome target  \n",
       "0     yes   no   cellular       357         2    331         1    other     no  \n",
       "1     yes   no  telephone       160         1     -1         0      NaN     no  \n",
       "2      no   no   cellular       326         1     -1         0      NaN     no  \n",
       "3     yes   no  telephone       104         3     -1         0      NaN     no  \n",
       "4      no   no   cellular       445         2     -1         0      NaN     no  "
      ]
     },
     "execution_count": 5,
     "metadata": {},
     "output_type": "execute_result"
    }
   ],
   "source": [
    "df.head()"
   ]
  },
  {
   "cell_type": "code",
   "execution_count": 6,
   "id": "05682117",
   "metadata": {
    "_cell_guid": "393e0b7b-d592-42c7-8a51-26a995929f21",
    "_uuid": "276e132f-6f9b-4478-bed7-03c86eef9f13",
    "collapsed": false,
    "execution": {
     "iopub.execute_input": "2024-12-07T14:30:54.706876Z",
     "iopub.status.busy": "2024-12-07T14:30:54.706526Z",
     "iopub.status.idle": "2024-12-07T14:30:54.742244Z",
     "shell.execute_reply": "2024-12-07T14:30:54.741290Z"
    },
    "jupyter": {
     "outputs_hidden": false
    },
    "papermill": {
     "duration": 0.045849,
     "end_time": "2024-12-07T14:30:54.744816",
     "exception": false,
     "start_time": "2024-12-07T14:30:54.698967",
     "status": "completed"
    },
    "tags": []
   },
   "outputs": [],
   "source": [
    "#  Date Transformation\n",
    "df['last contact date'] = pd.to_datetime(df['last contact date'])\n",
    "df['contact_year'] = df['last contact date'].dt.year\n",
    "df['contact_month'] = df['last contact date'].dt.month\n",
    "df['contact_day'] = df['last contact date'].dt.day\n",
    "df['contact_weekday'] = df['last contact date'].dt.weekday\n",
    "df.drop('last contact date', axis=1, inplace=True)"
   ]
  },
  {
   "cell_type": "code",
   "execution_count": 7,
   "id": "c98da797",
   "metadata": {
    "_cell_guid": "261888a5-f7de-4d64-aa03-5d9d229113ca",
    "_uuid": "5b464cdb-538c-4f0d-bb02-fc0aacdfa5e4",
    "collapsed": false,
    "execution": {
     "iopub.execute_input": "2024-12-07T14:30:54.757311Z",
     "iopub.status.busy": "2024-12-07T14:30:54.756936Z",
     "iopub.status.idle": "2024-12-07T14:30:54.785741Z",
     "shell.execute_reply": "2024-12-07T14:30:54.784757Z"
    },
    "jupyter": {
     "outputs_hidden": false
    },
    "papermill": {
     "duration": 0.03783,
     "end_time": "2024-12-07T14:30:54.788238",
     "exception": false,
     "start_time": "2024-12-07T14:30:54.750408",
     "status": "completed"
    },
    "tags": []
   },
   "outputs": [],
   "source": [
    "\n",
    "#  filling missing values with the most common value (mode)\n",
    "df['job'] = df['job'].fillna(df['job'].mode()[0])\n",
    "df['education'] = df['education'].fillna(df['education'].mode()[0])\n",
    "df['contact'] = df['contact'].fillna(df['contact'].mode()[0])\n",
    "df['poutcome'] = df['poutcome'].fillna(df['poutcome'].mode()[0])"
   ]
  },
  {
   "cell_type": "code",
   "execution_count": 8,
   "id": "177e6a22",
   "metadata": {
    "_cell_guid": "b21ec859-bbda-4892-8c78-61b6bb05d731",
    "_uuid": "c9b4cf15-159e-46d7-935d-dc642e5c5fd9",
    "collapsed": false,
    "execution": {
     "iopub.execute_input": "2024-12-07T14:30:54.801270Z",
     "iopub.status.busy": "2024-12-07T14:30:54.800902Z",
     "iopub.status.idle": "2024-12-07T14:30:54.938701Z",
     "shell.execute_reply": "2024-12-07T14:30:54.937571Z"
    },
    "jupyter": {
     "outputs_hidden": false
    },
    "papermill": {
     "duration": 0.147299,
     "end_time": "2024-12-07T14:30:54.941208",
     "exception": false,
     "start_time": "2024-12-07T14:30:54.793909",
     "status": "completed"
    },
    "tags": []
   },
   "outputs": [],
   "source": [
    "\n",
    "\n",
    "# Feature Transformation for `job` (Frequency Encoding)\n",
    "job_counts = df['job'].value_counts(normalize=True)\n",
    "df['job_freq'] = df['job'].map(job_counts)\n",
    "df.drop('job', axis=1, inplace=True)\n",
    "\n",
    "#  Binning Continuous Features\n",
    "df['age_bin'] = pd.cut(df['age'], bins=[18, 30, 45, 60, 80], labels=['18-30', '30-45', '45-60', '60-80'])\n",
    "df.drop('age', axis=1, inplace=True)\n",
    "\n",
    "df['balance_bin'] = pd.qcut(df['balance'], q=4, labels=['Low', 'Medium', 'High', 'Very High'])\n",
    "df.drop('balance', axis=1, inplace=True)\n",
    "\n",
    "#   Interaction Features\n",
    "df['financial_status'] = df['housing'] + '_' + df['loan']\n",
    "\n",
    "#  Label Encoding for Binary Features\n",
    "binary_cols = ['default', 'housing', 'loan', ]\n",
    "le = LabelEncoder()\n",
    "for col in binary_cols:\n",
    "    df[col] = le.fit_transform(df[col])\n",
    "\n",
    "\n",
    "\n",
    "#  OneHot Encoding for Multi-Categorical Columns\n",
    "df = pd.get_dummies(df, columns=['education', 'marital', 'contact', 'poutcome', 'financial_status', 'age_bin', 'balance_bin'], drop_first=True)\n",
    "\n",
    "#  Feature Scaling for Numerical Features\n",
    "scaler = StandardScaler()\n",
    "num_features = ['duration', 'campaign', 'pdays', 'previous']\n",
    "df[num_features] = scaler.fit_transform(df[num_features])"
   ]
  },
  {
   "cell_type": "code",
   "execution_count": 9,
   "id": "f701fa31",
   "metadata": {
    "execution": {
     "iopub.execute_input": "2024-12-07T14:30:54.953961Z",
     "iopub.status.busy": "2024-12-07T14:30:54.953570Z",
     "iopub.status.idle": "2024-12-07T14:30:54.975899Z",
     "shell.execute_reply": "2024-12-07T14:30:54.974636Z"
    },
    "papermill": {
     "duration": 0.031296,
     "end_time": "2024-12-07T14:30:54.978197",
     "exception": false,
     "start_time": "2024-12-07T14:30:54.946901",
     "status": "completed"
    },
    "tags": []
   },
   "outputs": [
    {
     "data": {
      "text/html": [
       "<div>\n",
       "<style scoped>\n",
       "    .dataframe tbody tr th:only-of-type {\n",
       "        vertical-align: middle;\n",
       "    }\n",
       "\n",
       "    .dataframe tbody tr th {\n",
       "        vertical-align: top;\n",
       "    }\n",
       "\n",
       "    .dataframe thead th {\n",
       "        text-align: right;\n",
       "    }\n",
       "</style>\n",
       "<table border=\"1\" class=\"dataframe\">\n",
       "  <thead>\n",
       "    <tr style=\"text-align: right;\">\n",
       "      <th></th>\n",
       "      <th>default</th>\n",
       "      <th>housing</th>\n",
       "      <th>loan</th>\n",
       "      <th>duration</th>\n",
       "      <th>campaign</th>\n",
       "      <th>pdays</th>\n",
       "      <th>previous</th>\n",
       "      <th>target</th>\n",
       "      <th>contact_year</th>\n",
       "      <th>contact_month</th>\n",
       "      <th>...</th>\n",
       "      <th>poutcome_success</th>\n",
       "      <th>financial_status_no_yes</th>\n",
       "      <th>financial_status_yes_no</th>\n",
       "      <th>financial_status_yes_yes</th>\n",
       "      <th>age_bin_30-45</th>\n",
       "      <th>age_bin_45-60</th>\n",
       "      <th>age_bin_60-80</th>\n",
       "      <th>balance_bin_Medium</th>\n",
       "      <th>balance_bin_High</th>\n",
       "      <th>balance_bin_Very High</th>\n",
       "    </tr>\n",
       "  </thead>\n",
       "  <tbody>\n",
       "    <tr>\n",
       "      <th>0</th>\n",
       "      <td>0</td>\n",
       "      <td>1</td>\n",
       "      <td>0</td>\n",
       "      <td>-0.106702</td>\n",
       "      <td>-0.314334</td>\n",
       "      <td>1.607699</td>\n",
       "      <td>-0.245271</td>\n",
       "      <td>no</td>\n",
       "      <td>2009</td>\n",
       "      <td>4</td>\n",
       "      <td>...</td>\n",
       "      <td>False</td>\n",
       "      <td>False</td>\n",
       "      <td>True</td>\n",
       "      <td>False</td>\n",
       "      <td>False</td>\n",
       "      <td>False</td>\n",
       "      <td>False</td>\n",
       "      <td>False</td>\n",
       "      <td>True</td>\n",
       "      <td>False</td>\n",
       "    </tr>\n",
       "    <tr>\n",
       "      <th>1</th>\n",
       "      <td>0</td>\n",
       "      <td>1</td>\n",
       "      <td>0</td>\n",
       "      <td>-0.362850</td>\n",
       "      <td>-0.415446</td>\n",
       "      <td>-0.455175</td>\n",
       "      <td>-0.267926</td>\n",
       "      <td>no</td>\n",
       "      <td>2009</td>\n",
       "      <td>10</td>\n",
       "      <td>...</td>\n",
       "      <td>False</td>\n",
       "      <td>False</td>\n",
       "      <td>True</td>\n",
       "      <td>False</td>\n",
       "      <td>False</td>\n",
       "      <td>True</td>\n",
       "      <td>False</td>\n",
       "      <td>False</td>\n",
       "      <td>True</td>\n",
       "      <td>False</td>\n",
       "    </tr>\n",
       "    <tr>\n",
       "      <th>2</th>\n",
       "      <td>0</td>\n",
       "      <td>0</td>\n",
       "      <td>0</td>\n",
       "      <td>-0.147009</td>\n",
       "      <td>-0.415446</td>\n",
       "      <td>-0.455175</td>\n",
       "      <td>-0.267926</td>\n",
       "      <td>no</td>\n",
       "      <td>2010</td>\n",
       "      <td>11</td>\n",
       "      <td>...</td>\n",
       "      <td>False</td>\n",
       "      <td>False</td>\n",
       "      <td>False</td>\n",
       "      <td>False</td>\n",
       "      <td>True</td>\n",
       "      <td>False</td>\n",
       "      <td>False</td>\n",
       "      <td>False</td>\n",
       "      <td>True</td>\n",
       "      <td>False</td>\n",
       "    </tr>\n",
       "    <tr>\n",
       "      <th>3</th>\n",
       "      <td>0</td>\n",
       "      <td>1</td>\n",
       "      <td>0</td>\n",
       "      <td>-0.435663</td>\n",
       "      <td>-0.213222</td>\n",
       "      <td>-0.455175</td>\n",
       "      <td>-0.267926</td>\n",
       "      <td>no</td>\n",
       "      <td>2009</td>\n",
       "      <td>9</td>\n",
       "      <td>...</td>\n",
       "      <td>False</td>\n",
       "      <td>False</td>\n",
       "      <td>True</td>\n",
       "      <td>False</td>\n",
       "      <td>True</td>\n",
       "      <td>False</td>\n",
       "      <td>False</td>\n",
       "      <td>True</td>\n",
       "      <td>False</td>\n",
       "      <td>False</td>\n",
       "    </tr>\n",
       "    <tr>\n",
       "      <th>4</th>\n",
       "      <td>0</td>\n",
       "      <td>0</td>\n",
       "      <td>0</td>\n",
       "      <td>0.007720</td>\n",
       "      <td>-0.314334</td>\n",
       "      <td>-0.455175</td>\n",
       "      <td>-0.267926</td>\n",
       "      <td>no</td>\n",
       "      <td>2008</td>\n",
       "      <td>1</td>\n",
       "      <td>...</td>\n",
       "      <td>False</td>\n",
       "      <td>False</td>\n",
       "      <td>False</td>\n",
       "      <td>False</td>\n",
       "      <td>True</td>\n",
       "      <td>False</td>\n",
       "      <td>False</td>\n",
       "      <td>True</td>\n",
       "      <td>False</td>\n",
       "      <td>False</td>\n",
       "    </tr>\n",
       "  </tbody>\n",
       "</table>\n",
       "<p>5 rows × 29 columns</p>\n",
       "</div>"
      ],
      "text/plain": [
       "   default  housing  loan  duration  campaign     pdays  previous target  \\\n",
       "0        0        1     0 -0.106702 -0.314334  1.607699 -0.245271     no   \n",
       "1        0        1     0 -0.362850 -0.415446 -0.455175 -0.267926     no   \n",
       "2        0        0     0 -0.147009 -0.415446 -0.455175 -0.267926     no   \n",
       "3        0        1     0 -0.435663 -0.213222 -0.455175 -0.267926     no   \n",
       "4        0        0     0  0.007720 -0.314334 -0.455175 -0.267926     no   \n",
       "\n",
       "   contact_year  contact_month  ...  poutcome_success  \\\n",
       "0          2009              4  ...             False   \n",
       "1          2009             10  ...             False   \n",
       "2          2010             11  ...             False   \n",
       "3          2009              9  ...             False   \n",
       "4          2008              1  ...             False   \n",
       "\n",
       "   financial_status_no_yes  financial_status_yes_no  financial_status_yes_yes  \\\n",
       "0                    False                     True                     False   \n",
       "1                    False                     True                     False   \n",
       "2                    False                    False                     False   \n",
       "3                    False                     True                     False   \n",
       "4                    False                    False                     False   \n",
       "\n",
       "   age_bin_30-45  age_bin_45-60  age_bin_60-80  balance_bin_Medium  \\\n",
       "0          False          False          False               False   \n",
       "1          False           True          False               False   \n",
       "2           True          False          False               False   \n",
       "3           True          False          False                True   \n",
       "4           True          False          False                True   \n",
       "\n",
       "   balance_bin_High  balance_bin_Very High  \n",
       "0              True                  False  \n",
       "1              True                  False  \n",
       "2              True                  False  \n",
       "3             False                  False  \n",
       "4             False                  False  \n",
       "\n",
       "[5 rows x 29 columns]"
      ]
     },
     "execution_count": 9,
     "metadata": {},
     "output_type": "execute_result"
    }
   ],
   "source": [
    "df.head()"
   ]
  },
  {
   "cell_type": "code",
   "execution_count": 10,
   "id": "3dd6cb60",
   "metadata": {
    "execution": {
     "iopub.execute_input": "2024-12-07T14:30:54.991231Z",
     "iopub.status.busy": "2024-12-07T14:30:54.990849Z",
     "iopub.status.idle": "2024-12-07T14:30:57.816249Z",
     "shell.execute_reply": "2024-12-07T14:30:57.814951Z"
    },
    "papermill": {
     "duration": 2.836211,
     "end_time": "2024-12-07T14:30:57.820176",
     "exception": false,
     "start_time": "2024-12-07T14:30:54.983965",
     "status": "completed"
    },
    "tags": []
   },
   "outputs": [
    {
     "data": {
      "image/png": "[encoded data removed]",
      "text/plain": [
       "<Figure size 1600x1200 with 12 Axes>"
      ]
     },
     "metadata": {},
     "output_type": "display_data"
    }
   ],
   "source": [
    " import seaborn as sns \n",
    "import matplotlib.pyplot as plt\n",
    "\n",
    "df.hist (bins=30, edgecolor ='blue', figsize=(16,12))\n",
    "\n",
    "plt.subplots_adjust(hspace=0.5, wspace=0.5)\n",
    "\n",
    "plt.show()\n"
   ]
  },
  {
   "cell_type": "code",
   "execution_count": 11,
   "id": "9d9b238d",
   "metadata": {
    "execution": {
     "iopub.execute_input": "2024-12-07T14:30:57.837248Z",
     "iopub.status.busy": "2024-12-07T14:30:57.836219Z",
     "iopub.status.idle": "2024-12-07T14:30:57.872808Z",
     "shell.execute_reply": "2024-12-07T14:30:57.871354Z"
    },
    "papermill": {
     "duration": 0.047745,
     "end_time": "2024-12-07T14:30:57.875420",
     "exception": false,
     "start_time": "2024-12-07T14:30:57.827675",
     "status": "completed"
    },
    "tags": []
   },
   "outputs": [
    {
     "name": "stdout",
     "output_type": "stream",
     "text": [
      "                  default   housing      loan  duration  campaign     pdays  \\\n",
      "default          1.000000 -0.019287  0.181860  0.458076  0.473876  0.376927   \n",
      "housing         -0.019287  1.000000  0.026333 -0.026819 -0.038591  0.047196   \n",
      "loan             0.181860  0.026333  1.000000  0.184147  0.192926  0.155936   \n",
      "duration         0.458076 -0.026819  0.184147  1.000000  0.630944  0.527020   \n",
      "campaign         0.473876 -0.038591  0.192926  0.630944  1.000000  0.519469   \n",
      "pdays            0.376927  0.047196  0.155936  0.527020  0.519469  1.000000   \n",
      "previous         0.493975 -0.027160  0.206297  0.683951  0.689211  0.586175   \n",
      "contact_year     0.000564 -0.001198  0.007263 -0.006046  0.003603  0.003803   \n",
      "contact_month    0.060794 -0.146845  0.042864  0.076369  0.100006  0.017340   \n",
      "contact_day     -0.010494 -0.031488  0.006346 -0.020428  0.030812 -0.067052   \n",
      "contact_weekday  0.019326  0.008523  0.013826  0.018270  0.032570 -0.017579   \n",
      "job_freq        -0.236831  0.136390 -0.097724 -0.331602 -0.318611 -0.268549   \n",
      "\n",
      "                 previous  contact_year  contact_month  contact_day  \\\n",
      "default          0.493975      0.000564       0.060794    -0.010494   \n",
      "housing         -0.027160     -0.001198      -0.146845    -0.031488   \n",
      "loan             0.206297      0.007263       0.042864     0.006346   \n",
      "duration         0.683951     -0.006046       0.076369    -0.020428   \n",
      "campaign         0.689211      0.003603       0.100006     0.030812   \n",
      "pdays            0.586175      0.003803       0.017340    -0.067052   \n",
      "previous         1.000000      0.001498       0.084514    -0.015361   \n",
      "contact_year     0.001498      1.000000      -0.002979    -0.003381   \n",
      "contact_month    0.084514     -0.002979       1.000000     0.082266   \n",
      "contact_day     -0.015361     -0.003381       0.082266     1.000000   \n",
      "contact_weekday  0.014167      0.284769       0.053227     0.108941   \n",
      "job_freq        -0.353443     -0.010780      -0.053287     0.013485   \n",
      "\n",
      "                 contact_weekday  job_freq  \n",
      "default                 0.019326 -0.236831  \n",
      "housing                 0.008523  0.136390  \n",
      "loan                    0.013826 -0.097724  \n",
      "duration                0.018270 -0.331602  \n",
      "campaign                0.032570 -0.318611  \n",
      "pdays                  -0.017579 -0.268549  \n",
      "previous                0.014167 -0.353443  \n",
      "contact_year            0.284769 -0.010780  \n",
      "contact_month           0.053227 -0.053287  \n",
      "contact_day             0.108941  0.013485  \n",
      "contact_weekday         1.000000 -0.006532  \n",
      "job_freq               -0.006532  1.000000  \n"
     ]
    }
   ],
   "source": [
    "# Select only the numerical columns from the DataFrame\n",
    "numerical_df = df.select_dtypes(include=['number'])\n",
    "\n",
    "# Calculate the correlation matrix\n",
    "corr_matrix = numerical_df.corr()\n",
    "\n",
    "\n",
    "print(corr_matrix)\n"
   ]
  },
  {
   "cell_type": "code",
   "execution_count": 12,
   "id": "1fa58a96",
   "metadata": {
    "_cell_guid": "97e0585e-6325-4bb1-a928-5201182e1aad",
    "_uuid": "c5e9b0d2-5ecf-4a64-8214-c85e3a2dd635",
    "collapsed": false,
    "execution": {
     "iopub.execute_input": "2024-12-07T14:30:57.892451Z",
     "iopub.status.busy": "2024-12-07T14:30:57.892020Z",
     "iopub.status.idle": "2024-12-07T14:30:57.906809Z",
     "shell.execute_reply": "2024-12-07T14:30:57.905815Z"
    },
    "jupyter": {
     "outputs_hidden": false
    },
    "papermill": {
     "duration": 0.0263,
     "end_time": "2024-12-07T14:30:57.909444",
     "exception": false,
     "start_time": "2024-12-07T14:30:57.883144",
     "status": "completed"
    },
    "tags": []
   },
   "outputs": [],
   "source": [
    "# Split Data\n",
    "X = df.drop('target', axis=1)\n",
    "y = df['target']\n",
    "\n",
    "# Encode the target variable ('yes'/'no') to binary\n",
    "label_encoder = LabelEncoder()\n",
    "y = label_encoder.fit_transform(y)"
   ]
  },
  {
   "cell_type": "code",
   "execution_count": 13,
   "id": "1dbbea64",
   "metadata": {
    "_cell_guid": "ae0b1597-f126-4f6a-8ea6-cff303f0d0d1",
    "_uuid": "b240a453-b1b9-47a0-a68c-4512383ceabe",
    "collapsed": false,
    "execution": {
     "iopub.execute_input": "2024-12-07T14:30:57.926603Z",
     "iopub.status.busy": "2024-12-07T14:30:57.926230Z",
     "iopub.status.idle": "2024-12-07T14:30:57.954306Z",
     "shell.execute_reply": "2024-12-07T14:30:57.953040Z"
    },
    "jupyter": {
     "outputs_hidden": false
    },
    "papermill": {
     "duration": 0.039949,
     "end_time": "2024-12-07T14:30:57.957165",
     "exception": false,
     "start_time": "2024-12-07T14:30:57.917216",
     "status": "completed"
    },
    "tags": []
   },
   "outputs": [],
   "source": [
    "X_train, X_test, y_train, y_test = train_test_split(X, y, test_size=0.2, random_state=42, stratify=y)"
   ]
  },
  {
   "cell_type": "code",
   "execution_count": 14,
   "id": "50a335f7",
   "metadata": {
    "_cell_guid": "c4a1ca08-85cd-494d-8bde-13179876924a",
    "_uuid": "8a0b246c-e2af-40b2-8aca-8da07820c775",
    "collapsed": false,
    "execution": {
     "iopub.execute_input": "2024-12-07T14:30:57.974999Z",
     "iopub.status.busy": "2024-12-07T14:30:57.973953Z",
     "iopub.status.idle": "2024-12-07T14:30:58.903441Z",
     "shell.execute_reply": "2024-12-07T14:30:58.901502Z"
    },
    "jupyter": {
     "outputs_hidden": false
    },
    "papermill": {
     "duration": 0.941637,
     "end_time": "2024-12-07T14:30:58.906691",
     "exception": false,
     "start_time": "2024-12-07T14:30:57.965054",
     "status": "completed"
    },
    "tags": []
   },
   "outputs": [
    {
     "name": "stdout",
     "output_type": "stream",
     "text": [
      "F1 Score (macro): 0.7424908908984501\n",
      "              precision    recall  f1-score   support\n",
      "\n",
      "           0       0.92      0.94      0.93      6677\n",
      "           1       0.60      0.52      0.56      1166\n",
      "\n",
      "    accuracy                           0.88      7843\n",
      "   macro avg       0.76      0.73      0.74      7843\n",
      "weighted avg       0.87      0.88      0.87      7843\n",
      "\n"
     ]
    }
   ],
   "source": [
    "#model 1( main model)\n",
    "# Model Training with XGBoost\n",
    "xgb_classifier = XGBClassifier(eval_metric='logloss', use_label_encoder=False, random_state=42)\n",
    "xgb_classifier.fit(X_train, y_train)\n",
    "\n",
    "\n",
    "model1=xgb_classifier.fit(X_train, y_train)\n",
    "# Model Evaluation\n",
    "y_pred = xgb_classifier.predict(X_test)\n",
    "print(f\"F1 Score (macro): {f1_score(y_test, y_pred, average='macro')}\")\n",
    "print(classification_report(y_test, y_pred))"
   ]
  },
  {
   "cell_type": "code",
   "execution_count": 15,
   "id": "ad70f507",
   "metadata": {
    "execution": {
     "iopub.execute_input": "2024-12-07T14:30:58.927455Z",
     "iopub.status.busy": "2024-12-07T14:30:58.926821Z",
     "iopub.status.idle": "2024-12-07T14:35:34.727020Z",
     "shell.execute_reply": "2024-12-07T14:35:34.725505Z"
    },
    "papermill": {
     "duration": 275.8202,
     "end_time": "2024-12-07T14:35:34.736375",
     "exception": false,
     "start_time": "2024-12-07T14:30:58.916175",
     "status": "completed"
    },
    "tags": []
   },
   "outputs": [
    {
     "name": "stdout",
     "output_type": "stream",
     "text": [
      "Fitting 3 folds for each of 324 candidates, totalling 972 fits\n",
      "Best Parameters: {'colsample_bytree': 0.8, 'gamma': 1, 'learning_rate': 0.2, 'max_depth': 5, 'n_estimators': 300, 'subsample': 0.8}\n",
      "F1 Score (macro): 0.7354320138365908\n",
      "              precision    recall  f1-score   support\n",
      "\n",
      "           0       0.91      0.94      0.93      6677\n",
      "           1       0.60      0.49      0.54      1166\n",
      "\n",
      "    accuracy                           0.88      7843\n",
      "   macro avg       0.76      0.72      0.74      7843\n",
      "weighted avg       0.87      0.88      0.87      7843\n",
      "\n"
     ]
    }
   ],
   "source": [
    "#from sklearn.model_selection import GridSearchCV\n",
    "\n",
    "# Define the parameter grid\n",
    "param_grid = {\n",
    "    'n_estimators': [100, 200, 300],\n",
    "    'learning_rate': [0.01, 0.1, 0.2],\n",
    "    'max_depth': [3, 5, 7],\n",
    "    'subsample': [0.8, 1.0],\n",
    "    'colsample_bytree': [0.8, 1.0],\n",
    "    'gamma': [0, 1, 5]\n",
    "}\n",
    "\n",
    "# Create the GridSearchCV object\n",
    "grid_search = GridSearchCV(\n",
    "    estimator=XGBClassifier(eval_metric='logloss', use_label_encoder=False, random_state=42),\n",
    "    param_grid=param_grid,\n",
    "    scoring='f1_macro',  # Choosing the scoring metric\n",
    "    cv=3,  # 3-fold cross-validation\n",
    "    verbose=1,\n",
    "    n_jobs=-1\n",
    ")\n",
    "\n",
    "# Fit the model with GridSearchCV\n",
    "grid_search.fit(X_train, y_train)\n",
    "\n",
    "# Best parameters and model\n",
    "best_params = grid_search.best_params_\n",
    "best_model = grid_search.best_estimator_\n",
    "\n",
    "print(\"Best Parameters:\", best_params)\n",
    "\n",
    "# Evaluate the tuned model\n",
    "y_pred = best_model.predict(X_test)\n",
    "print(f\"F1 Score (macro): {f1_score(y_test, y_pred, average='macro')}\")\n",
    "print(classification_report(y_test, y_pred))\n"
   ]
  },
  {
   "cell_type": "code",
   "execution_count": 16,
   "id": "ecba9dc9",
   "metadata": {
    "_cell_guid": "2bfc479d-7c4c-4589-8188-8e4cf8dab26e",
    "_uuid": "b9835485-664a-4411-8ea9-d2e16a7b37cc",
    "collapsed": false,
    "execution": {
     "iopub.execute_input": "2024-12-07T14:35:34.753800Z",
     "iopub.status.busy": "2024-12-07T14:35:34.753289Z",
     "iopub.status.idle": "2024-12-07T14:35:38.481008Z",
     "shell.execute_reply": "2024-12-07T14:35:38.479665Z"
    },
    "jupyter": {
     "outputs_hidden": false
    },
    "papermill": {
     "duration": 3.742897,
     "end_time": "2024-12-07T14:35:38.486703",
     "exception": false,
     "start_time": "2024-12-07T14:35:34.743806",
     "status": "completed"
    },
    "tags": []
   },
   "outputs": [
    {
     "name": "stdout",
     "output_type": "stream",
     "text": [
      "F1 Score (macro): 0.6388936896881694\n",
      "              precision    recall  f1-score   support\n",
      "\n",
      "           0       0.88      0.97      0.92      6677\n",
      "           1       0.60      0.25      0.35      1166\n",
      "\n",
      "    accuracy                           0.86      7843\n",
      "   macro avg       0.74      0.61      0.64      7843\n",
      "weighted avg       0.84      0.86      0.84      7843\n",
      "\n"
     ]
    }
   ],
   "source": [
    "\n",
    "# model 2\n",
    "#  Logistic Regression model\n",
    "\n",
    "logreg_classifier = LogisticRegression(max_iter=1000, random_state=42)\n",
    "\n",
    "# Training the model using the training data\n",
    "logreg_classifier.fit(X_train, y_train)\n",
    "\n",
    "model2=logreg_classifier.fit(X_train, y_train)\n",
    "# Model Evaluation\n",
    "y_pred = logreg_classifier.predict(X_test)\n",
    "print(f\"F1 Score (macro): {f1_score(y_test, y_pred, average='macro')}\")\n",
    "print(classification_report(y_test, y_pred))"
   ]
  },
  {
   "cell_type": "code",
   "execution_count": 17,
   "id": "a27d84b1",
   "metadata": {
    "_cell_guid": "48fcf4a1-6417-46f4-ba6e-108378c55b22",
    "_uuid": "fadaeccb-a7d3-4583-94fd-846e566bf7db",
    "collapsed": false,
    "execution": {
     "iopub.execute_input": "2024-12-07T14:35:38.531361Z",
     "iopub.status.busy": "2024-12-07T14:35:38.529613Z",
     "iopub.status.idle": "2024-12-07T14:35:43.067285Z",
     "shell.execute_reply": "2024-12-07T14:35:43.063149Z"
    },
    "jupyter": {
     "outputs_hidden": false
    },
    "papermill": {
     "duration": 4.563978,
     "end_time": "2024-12-07T14:35:43.071041",
     "exception": false,
     "start_time": "2024-12-07T14:35:38.507063",
     "status": "completed"
    },
    "tags": []
   },
   "outputs": [
    {
     "name": "stdout",
     "output_type": "stream",
     "text": [
      "F1 Score (macro): 0.6388936896881694\n",
      "              precision    recall  f1-score   support\n",
      "\n",
      "           0       0.88      0.97      0.92      6677\n",
      "           1       0.60      0.25      0.35      1166\n",
      "\n",
      "    accuracy                           0.86      7843\n",
      "   macro avg       0.74      0.61      0.64      7843\n",
      "weighted avg       0.84      0.86      0.84      7843\n",
      "\n"
     ]
    }
   ],
   "source": [
    "\n",
    "\n",
    "# model 3\n",
    "\n",
    "#  Random Forest Classifier\n",
    "rf_classifier = RandomForestClassifier(n_estimators=100, max_depth=10, random_state=42)\n",
    "\n",
    "\n",
    "rf_classifier.fit(X_train, y_train)\n",
    "\n",
    "\n",
    "model3=rf_classifier.fit(X_train, y_train)\n",
    "# Model Evaluation\n",
    "y_pred = logreg_classifier.predict(X_test)\n",
    "print(f\"F1 Score (macro): {f1_score(y_test, y_pred, average='macro')}\")\n",
    "print(classification_report(y_test, y_pred))"
   ]
  },
  {
   "cell_type": "code",
   "execution_count": 18,
   "id": "ced571da",
   "metadata": {
    "_cell_guid": "dc249ffd-4221-49c4-a1f1-de2d9626245b",
    "_uuid": "becca70f-9b89-484c-87f6-441367d45f59",
    "collapsed": false,
    "execution": {
     "iopub.execute_input": "2024-12-07T14:35:43.115529Z",
     "iopub.status.busy": "2024-12-07T14:35:43.114879Z",
     "iopub.status.idle": "2024-12-07T14:35:43.158804Z",
     "shell.execute_reply": "2024-12-07T14:35:43.157515Z"
    },
    "jupyter": {
     "outputs_hidden": false
    },
    "papermill": {
     "duration": 0.069878,
     "end_time": "2024-12-07T14:35:43.161449",
     "exception": false,
     "start_time": "2024-12-07T14:35:43.091571",
     "status": "completed"
    },
    "tags": []
   },
   "outputs": [],
   "source": [
    "# Loading the test dataset\n",
    "test_df = pd.read_csv(\"/kaggle/input/predict-the-success-of-bank-telemarketing/test.csv\")"
   ]
  },
  {
   "cell_type": "code",
   "execution_count": 19,
   "id": "c994e744",
   "metadata": {
    "_cell_guid": "f9fac00d-052f-442b-80d4-242d07257654",
    "_uuid": "b948872b-acc5-4a8b-bb41-465d4c789686",
    "collapsed": false,
    "execution": {
     "iopub.execute_input": "2024-12-07T14:35:43.179014Z",
     "iopub.status.busy": "2024-12-07T14:35:43.178634Z",
     "iopub.status.idle": "2024-12-07T14:35:43.262571Z",
     "shell.execute_reply": "2024-12-07T14:35:43.261462Z"
    },
    "jupyter": {
     "outputs_hidden": false
    },
    "papermill": {
     "duration": 0.096136,
     "end_time": "2024-12-07T14:35:43.265488",
     "exception": false,
     "start_time": "2024-12-07T14:35:43.169352",
     "status": "completed"
    },
    "tags": []
   },
   "outputs": [],
   "source": [
    "# Loading the test dataset\n",
    "test_df = pd.read_csv(\"/kaggle/input/predict-the-success-of-bank-telemarketing/test.csv\")\n",
    "\n",
    "#  Date Transformation for test_df\n",
    "test_df['last contact date'] = pd.to_datetime(test_df['last contact date'])\n",
    "test_df['contact_year'] = test_df['last contact date'].dt.year\n",
    "test_df['contact_month'] = test_df['last contact date'].dt.month\n",
    "test_df['contact_day'] = test_df['last contact date'].dt.day\n",
    "test_df['contact_weekday'] = test_df['last contact date'].dt.weekday\n",
    "test_df.drop('last contact date', axis=1, inplace=True)\n",
    "\n",
    "#  Fill Missing Values with Mode for test_df\n",
    "test_df['job'] = test_df['job'].fillna(test_df['job'].mode()[0])\n",
    "test_df['education'] = test_df['education'].fillna(test_df['education'].mode()[0])\n",
    "test_df['contact'] = test_df['contact'].fillna(test_df['contact'].mode()[0])\n",
    "test_df['poutcome'] = test_df['poutcome'].fillna(test_df['poutcome'].mode()[0])\n",
    "\n",
    "#  Feature Transformation for `job` (Frequency Encoding) for test_df\n",
    "test_df['job_freq'] = test_df['job'].map(job_counts)\n",
    "test_df.drop('job', axis=1, inplace=True)\n",
    "\n",
    "#  Binning Continuous Features for test_df\n",
    "test_df['age_bin'] = pd.cut(test_df['age'], bins=[18, 30, 45, 60, 80], labels=['18-30', '30-45', '45-60', '60-80'])\n",
    "test_df.drop('age', axis=1, inplace=True)\n",
    "\n",
    "test_df['balance_bin'] = pd.qcut(test_df['balance'], q=4, labels=['Low', 'Medium', 'High', 'Very High'])\n",
    "test_df.drop('balance', axis=1, inplace=True)\n",
    "\n",
    "#  Creating Interaction Features for test_df\n",
    "test_df['financial_status'] = test_df['housing'] + '_' + test_df['loan']\n",
    "\n",
    "#  Label Encoding for Binary Features\n",
    "binary_cols = ['default', 'housing', 'loan',]\n",
    "le = LabelEncoder()\n",
    "for col in binary_cols:\n",
    "    test_df[col] = le.fit_transform(test_df[col])\n",
    "\n",
    "#  OneHot Encoding for Multi-Categorical Columns in test_df\n",
    "test_df = pd.get_dummies(test_df, columns=['education', 'marital', 'contact', 'poutcome', 'financial_status', 'age_bin', 'balance_bin'], drop_first=True)\n",
    "\n",
    "# Aligning test_df with training set columns\n",
    "missing_cols = set(test_df.columns) - set(test_df.columns)\n",
    "for col in missing_cols:\n",
    "    test_df[col] = 0  # Add missing columns as zero\n",
    "\n",
    "\n",
    "\n",
    "#  Feature Scaling for Numerical Features in test_df\n",
    "test_df[num_features] = scaler.transform(test_df[num_features])"
   ]
  },
  {
   "cell_type": "code",
   "execution_count": 20,
   "id": "88b181a5",
   "metadata": {
    "_cell_guid": "17c6ca81-f312-462b-babd-8e581104aa9a",
    "_uuid": "f388fd95-3940-461c-bfc8-1f4334450c52",
    "collapsed": false,
    "execution": {
     "iopub.execute_input": "2024-12-07T14:35:43.284014Z",
     "iopub.status.busy": "2024-12-07T14:35:43.283579Z",
     "iopub.status.idle": "2024-12-07T14:35:43.336908Z",
     "shell.execute_reply": "2024-12-07T14:35:43.335967Z"
    },
    "jupyter": {
     "outputs_hidden": false
    },
    "papermill": {
     "duration": 0.065838,
     "end_time": "2024-12-07T14:35:43.339626",
     "exception": false,
     "start_time": "2024-12-07T14:35:43.273788",
     "status": "completed"
    },
    "tags": []
   },
   "outputs": [],
   "source": [
    "\n",
    "\n",
    "test_predictions = model1.predict(test_df)\n",
    "\n",
    "# predictions back to 'yes'/'no'\n",
    "test_predictions = label_encoder.inverse_transform(test_predictions)\n",
    "\n",
    "# Creating the submission DataFrame \n",
    "submission = pd.DataFrame({'id': test_df.index, 'target': test_predictions})\n",
    "submission.to_csv('submission.csv', index=False)"
   ]
  }
 ],
 "metadata": {
  "kaggle": {
   "accelerator": "none",
   "dataSources": [
    {
     "databundleVersionId": 9578279,
     "sourceId": 85062,
     "sourceType": "competition"
    }
   ],
   "dockerImageVersionId": 30786,
   "isGpuEnabled": false,
   "isInternetEnabled": true,
   "language": "python",
   "sourceType": "notebook"
  },
  "kernelspec": {
   "display_name": "Python 3",
   "language": "python",
   "name": "python3"
  },
  "language_info": {
   "codemirror_mode": {
    "name": "ipython",
    "version": 3
   },
   "file_extension": ".py",
   "mimetype": "text/x-python",
   "name": "python",
   "nbconvert_exporter": "python",
   "pygments_lexer": "ipython3",
   "version": "3.10.14"
  },
  "papermill": {
   "default_parameters": {},
   "duration": 297.055692,
   "end_time": "2024-12-07T14:35:45.968500",
   "environment_variables": {},
   "exception": null,
   "input_path": "__notebook__.ipynb",
   "output_path": "__notebook__.ipynb",
   "parameters": {},
   "start_time": "2024-12-07T14:30:48.912808",
   "version": "2.6.0"
  }
 },
 "nbformat": 4,
 "nbformat_minor": 5
}
